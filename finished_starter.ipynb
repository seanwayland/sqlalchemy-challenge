{
 "cells": [
  {
   "cell_type": "code",
   "execution_count": 1,
   "metadata": {},
   "outputs": [],
   "source": [
    "%matplotlib inline\n",
    "from matplotlib import style\n",
    "style.use('fivethirtyeight')\n",
    "import matplotlib.pyplot as plt\n",
    "\n",
    "\n",
    "import datetime\n",
    "import calendar\n",
    "\n",
    "import numpy as np\n",
    "import pandas as pd\n",
    "\n",
    "import datetime as dt\n",
    "\n",
    "from scipy.stats import ttest_ind\n",
    "\n",
    "# Python SQL toolkit and Object Relational Mapper\n",
    "import sqlalchemy\n",
    "from sqlalchemy.ext.automap import automap_base\n",
    "from sqlalchemy.orm import Session\n",
    "from sqlalchemy import create_engine, func\n",
    "from sqlalchemy import extract"
   ]
  },
  {
   "cell_type": "code",
   "execution_count": null,
   "metadata": {},
   "outputs": [],
   "source": []
  },
  {
   "cell_type": "code",
   "execution_count": null,
   "metadata": {},
   "outputs": [],
   "source": []
  },
  {
   "cell_type": "markdown",
   "metadata": {},
   "source": [
    "# Reflect Tables into SQLAlchemy ORM"
   ]
  },
  {
   "cell_type": "code",
   "execution_count": 2,
   "metadata": {},
   "outputs": [],
   "source": [
    "# Python SQL toolkit and Object Relational Mapper\n",
    "import sqlalchemy\n",
    "from sqlalchemy.ext.automap import automap_base\n",
    "from sqlalchemy.orm import Session\n",
    "from sqlalchemy import create_engine, func"
   ]
  },
  {
   "cell_type": "code",
   "execution_count": 3,
   "metadata": {},
   "outputs": [],
   "source": [
    "#################################################\n",
    "# Database Setup\n",
    "#################################################\n",
    "engine = create_engine(\"sqlite:///hawaii.sqlite\")\n",
    "session = Session(engine)\n",
    "# reflect an existing database into a new model\n",
    "Base = automap_base()\n",
    "# reflect the tables\n",
    "Base.prepare(engine, reflect=True)\n",
    "\n",
    "# Save reference to the table\n",
    "\n",
    "Measurement = Base.classes.measurement\n",
    "Station = Base.classes.station"
   ]
  },
  {
   "cell_type": "code",
   "execution_count": 4,
   "metadata": {},
   "outputs": [],
   "source": [
    "# reflect an existing database into a new model\n",
    "\n",
    "# reflect the tables"
   ]
  },
  {
   "cell_type": "code",
   "execution_count": 5,
   "metadata": {},
   "outputs": [],
   "source": [
    "# We can view all of the classes that automap found\n"
   ]
  },
  {
   "cell_type": "code",
   "execution_count": 6,
   "metadata": {},
   "outputs": [],
   "source": [
    "# Save references to each table\n"
   ]
  },
  {
   "cell_type": "code",
   "execution_count": 7,
   "metadata": {},
   "outputs": [],
   "source": [
    "# Create our session (link) from Python to the DB\n"
   ]
  },
  {
   "cell_type": "markdown",
   "metadata": {},
   "source": [
    "# Exploratory Climate Analysis"
   ]
  },
  {
   "cell_type": "code",
   "execution_count": 8,
   "metadata": {},
   "outputs": [
    {
     "data": {
      "text/plain": [
       "<Figure size 432x288 with 0 Axes>"
      ]
     },
     "metadata": {},
     "output_type": "display_data"
    },
    {
     "data": {
      "image/png": "[encoded data removed]",
      "text/plain": [
       "<Figure size 432x288 with 1 Axes>"
      ]
     },
     "metadata": {
      "needs_background": "light"
     },
     "output_type": "display_data"
    }
   ],
   "source": [
    "# Design a query to retrieve the last 12 months of precipitation data and plot the results\n",
    "\n",
    "# Calculate the date 1 year ago from the last data point in the database\n",
    "\n",
    "# Perform a query to retrieve the data and precipitation scores\n",
    "\n",
    "# Save the query results as a Pandas DataFrame and set the index to the date column\n",
    "\n",
    "# Sort the dataframe by date\n",
    "\n",
    "dates = []\n",
    "rainfalls = []\n",
    "for a,b in session.query(Measurement.date, Measurement.prcp).\\\n",
    "    filter(Measurement.date > '2014-01-15').filter(Measurement.date < '2015-01-15').\\\n",
    "    order_by(Measurement.date).all():\n",
    "        dates.append(a)\n",
    "        rainfalls.append(b)\n",
    "\n",
    "for i in range(len(rainfalls)):\n",
    "    if rainfalls[i] == rainfalls[29]:\n",
    "        rainfalls[i] = 0.0\n",
    "\n",
    "\n",
    "\n",
    "data = pd.DataFrame(rainfalls, dates)\n",
    "data.columns = ['rainfall']\n",
    "data.index.name = 'date'\n",
    "data.fillna(0.0, inplace=True)\n",
    "#with pd.option_context('display.max_rows', None, 'display.max_columns', None):  # more options can be specified also\n",
    "#    print(data)\n",
    "\n",
    "# Use Pandas Plotting with Matplotlib to plot the data\n",
    "\n",
    "\n",
    "plt.figure()\n",
    "data.plot()\n",
    "plt.ylim((0, 13))\n",
    "plt.xlabel('Dates')\n",
    "plt.ylabel('Rainfall in Inches')\n",
    "plt.title('Rainfall for jan 14 2014 to jan 14 2015 ')\n",
    "plt.show()"
   ]
  },
  {
   "cell_type": "code",
   "execution_count": 9,
   "metadata": {},
   "outputs": [
    {
     "name": "stdout",
     "output_type": "stream",
     "text": [
      "          rainfall\n",
      "count  2589.000000\n",
      "mean      0.161081\n",
      "std       0.489456\n",
      "min       0.000000\n",
      "25%       0.000000\n",
      "50%       0.010000\n",
      "75%       0.120000\n",
      "max      11.530000\n"
     ]
    }
   ],
   "source": [
    "# Use Pandas to calcualte the summary statistics for the precipitation data\n",
    "print(data.describe())"
   ]
  },
  {
   "cell_type": "code",
   "execution_count": 10,
   "metadata": {},
   "outputs": [
    {
     "name": "stdout",
     "output_type": "stream",
     "text": [
      "most active station is: \n",
      "USC00519397\n"
     ]
    }
   ],
   "source": [
    "# Design a query to show how many stations are available in this dataset?\n",
    "\n",
    "\n",
    "session = Session(engine)\n",
    "Base = automap_base()\n",
    "Base.prepare(engine, reflect=True)\n",
    "# query the data\n",
    "stations = []\n",
    "rainfalls = []\n",
    "results = []\n",
    "# get results for year 2017\n",
    "for a,b,c in session.query(Measurement.station, Measurement.tobs, Measurement.date).\\\n",
    "filter(Measurement.date > '2017-01-01').\\\n",
    "order_by(Measurement.station) .\\\n",
    "order_by(Measurement.date).all():\n",
    "        resultsdict = {}\n",
    "        resultsdict[\"station\"] = a\n",
    "        resultsdict[\"tobs\"] = b\n",
    "        resultsdict[\"date\"] = c\n",
    "        results.append(resultsdict)\n",
    "session.close()\n",
    " # convert to dataframe\n",
    "data = pd.DataFrame(results)\n",
    "# ditch rows with null values\n",
    "data = data.dropna()\n",
    "# sort to find station with most results\n",
    "counts = data.groupby('station').count()\n",
    "\n",
    "counts = counts.sort_values('date', ascending = False)\n",
    "\n",
    "\n",
    "\n",
    "\n",
    "mostActiveStation = counts.index[0]\n",
    "# filter data based on station with most values\n",
    "data2 = data.loc[data['station'] == mostActiveStation]\n",
    "#print(data2)\n",
    "print('most active station is: ')\n",
    "print(mostActiveStation)\n"
   ]
  },
  {
   "cell_type": "code",
   "execution_count": 11,
   "metadata": {},
   "outputs": [
    {
     "name": "stdout",
     "output_type": "stream",
     "text": [
      "             tobs  date\n",
      "station                \n",
      "USC00519397   229   229\n",
      "USC00516128   221   221\n",
      "USC00519281   220   220\n",
      "USC00513117   211   211\n",
      "USC00519523   209   209\n",
      "USC00514830   194   194\n",
      "USC00517948   107   107\n"
     ]
    }
   ],
   "source": [
    "# What are the most active stations? (i.e. what stations have the most rows)?\n",
    "# List the stations and the counts in descending order.\n",
    "print(counts)\n"
   ]
  },
  {
   "cell_type": "code",
   "execution_count": 12,
   "metadata": {},
   "outputs": [],
   "source": [
    "# Using the station id from the previous query, calculate the lowest temperature recorded, \n",
    "# highest temperature recorded, and average temperature of the most active station?\n"
   ]
  },
  {
   "cell_type": "code",
   "execution_count": 13,
   "metadata": {},
   "outputs": [
    {
     "data": {
      "image/png": "[encoded data removed]",
      "text/plain": [
       "<Figure size 432x288 with 1 Axes>"
      ]
     },
     "metadata": {
      "needs_background": "light"
     },
     "output_type": "display_data"
    }
   ],
   "source": [
    "# Choose the station with the highest number of temperature observations.\n",
    "# Query the last 12 months of temperature observation data for this station and plot the results as a histogram\n",
    "\n",
    "# plot counts\n",
    "d3 = data2['tobs'].tolist()\n",
    "plt.hist(d3, bins = 12)\n",
    "plt.xlabel('Temp')\n",
    "plt.ylabel('Frequency')\n",
    "plt.title('Number of temp observations for station with most values ')\n",
    "plt.show()\n",
    "\n"
   ]
  },
  {
   "cell_type": "markdown",
   "metadata": {},
   "source": [
    "## Bonus Challenge Assignment"
   ]
  },
  {
   "cell_type": "code",
   "execution_count": 14,
   "metadata": {},
   "outputs": [
    {
     "name": "stdout",
     "output_type": "stream",
     "text": [
      "[(62.0, 69.57142857142857, 74.0)]\n"
     ]
    }
   ],
   "source": [
    "# This function called `calc_temps` will accept start date and end date in the format '%Y-%m-%d' \n",
    "# and return the minimum, average, and maximum temperatures for that range of dates\n",
    "def calc_temps(start_date, end_date):\n",
    "    \"\"\"TMIN, TAVG, and TMAX for a list of dates.\n",
    "    \n",
    "    Args:\n",
    "        start_date (string): A date string in the format %Y-%m-%d\n",
    "        end_date (string): A date string in the format %Y-%m-%d\n",
    "        \n",
    "    Returns:\n",
    "        TMIN, TAVE, and TMAX\n",
    "    \"\"\"\n",
    "    \n",
    "    return session.query(func.min(Measurement.tobs), func.avg(Measurement.tobs), func.max(Measurement.tobs)).\\\n",
    "        filter(Measurement.date >= start_date).filter(Measurement.date <= end_date).all()\n",
    "\n",
    "# function usage example\n",
    "print(calc_temps('2012-02-28', '2012-03-05'))"
   ]
  },
  {
   "cell_type": "code",
   "execution_count": 15,
   "metadata": {},
   "outputs": [
    {
     "name": "stdout",
     "output_type": "stream",
     "text": [
      "tobs    74.944118\n",
      "dtype: float64\n",
      "tobs    71.041529\n",
      "dtype: float64\n",
      "Ttest_indResult(statistic=31.60372399000329, pvalue=3.9025129038616655e-191)\n"
     ]
    }
   ],
   "source": [
    "# Use your previous function `calc_temps` to calculate the tmin, tavg, and tmax \n",
    "# for your trip using the previous year's data for those same dates.\n",
    "\n",
    "\n",
    "\n",
    "#Hawaii is reputed to enjoy mild weather all year.\n",
    "#Is there a meaningful difference between the temperature in, for example, June and December?\n",
    "#You may either use SQLAlchemy or pandas's read_csv() to perform this portion.\n",
    "#Identify the average temperature in June at all stations across all available years in the dataset.\n",
    "\n",
    "\n",
    "#Identify the average temperature in June at all stations across all available years in the dataset\n",
    "session = Session(engine)\n",
    "Base = automap_base()\n",
    "Base.prepare(engine, reflect=True)\n",
    "\n",
    "res = session.query(Measurement.tobs, Measurement.date).filter(extract('month', Measurement.date)==6).all()\n",
    "session.close()\n",
    " # convert to dataframe\n",
    "junedata = pd.DataFrame(res)\n",
    "\n",
    "#print(junedata)\n",
    "print(junedata.mean(skipna = True))\n",
    "\n",
    "# Do the same for December temperature.\n",
    "\n",
    "session = Session(engine)\n",
    "Base = automap_base()\n",
    "Base.prepare(engine, reflect=True)\n",
    "\n",
    "res = session.query(Measurement.tobs, Measurement.date).filter(extract('month', Measurement.date)==12).all()\n",
    "session.close()\n",
    " # convert to dataframe\n",
    "decData = pd.DataFrame(res)\n",
    "\n",
    "#print(decData)\n",
    "print(decData.mean(skipna = True))\n",
    "#Use the t-test to determine whether the difference in the means, if any, is statistically significant.\n",
    "#Will you use a paired t-test, or an unpaired t-test? Why?\n",
    "\n",
    "'''\n",
    "You cant use a paired t-test because the sample sizes are not the same \n",
    "\n",
    "tobs    74.944118\n",
    "dtype: float64\n",
    "tobs    71.041529\n",
    "dtype: float64\n",
    "Ttest_indResult(statistic=31.60372399000329, pvalue=3.9025129038616655e-191)\n",
    "\n",
    "\n",
    "this is a statistically significant result bec\n",
    "'''\n",
    "\n",
    "\n",
    "cat1 = junedata['tobs']\n",
    "cat2 = decData['tobs']\n",
    "\n",
    "print(ttest_ind(cat1, cat2))\n",
    "\n",
    "\n",
    "\n"
   ]
  },
  {
   "cell_type": "code",
   "execution_count": 16,
   "metadata": {},
   "outputs": [
    {
     "name": "stdout",
     "output_type": "stream",
     "text": [
      "[(56.0, 73.12442396313364, 85.0)]\n"
     ]
    },
    {
     "data": {
      "image/png": "[encoded data removed]",
      "text/plain": [
       "<Figure size 360x576 with 1 Axes>"
      ]
     },
     "metadata": {
      "needs_background": "light"
     },
     "output_type": "display_data"
    }
   ],
   "source": [
    "# Plot the results from your previous query as a bar chart. \n",
    "# Use \"Trip Avg Temp\" as your Title\n",
    "# Use the average temperature for the y value\n",
    "# Use the peak-to-peak (tmax-tmin) value as the y error bar (yerr)\n",
    "\n",
    "'''\n",
    "Use the calc_temps function to calculate the min, avg, and max temperatures for your trip\n",
    " using the matching dates from the previous year\n",
    " (i.e., use \"2017-01-01\" if your trip start date was \"2018-01-01\").\n",
    "'''\n",
    "def calc_temps(start_date, end_date):\n",
    "    \"\"\"TMIN, TAVG, and TMAX for a list of dates.\n",
    "\n",
    "    Args:\n",
    "        start_date (string): A date string in the format %Y-%m-%d\n",
    "        end_date (string): A date string in the format %Y-%m-%d\n",
    "\n",
    "    Returns:\n",
    "        TMIN, TAVE, and TMAX\n",
    "    \"\"\"\n",
    "\n",
    "    return session.query(func.min(Measurement.tobs), func.avg(Measurement.tobs), func.max(Measurement.tobs)).\\\n",
    "        filter(Measurement.date >= start_date).filter(Measurement.date <= end_date).all()\n",
    "\n",
    "# function usage example\n",
    "values = calc_temps('2014-01-15', '2015-01-15')\n",
    "print(values)\n",
    "\n",
    "df5 = pd.DataFrame(values, columns=['Min Temp', 'Average Temp', 'Max Temp'])\n",
    "tmin_tmax_temp = df5.iloc[0]['Max Temp'] - df5.iloc[0]['Min Temp']\n",
    "avg_temp = df5['Average Temp']\n",
    "avg_temp.plot(kind='bar', yerr=tmin_tmax_temp, figsize=(5,8), alpha=0.6, color='coral')\n",
    "plt.title(\"Average temperature for trip\", fontsize=18)\n",
    "plt.ylabel(\"Temp in farenheight\")\n",
    "plt.xticks([])\n",
    "plt.grid()\n",
    "plt.show()\n",
    "\n"
   ]
  },
  {
   "cell_type": "code",
   "execution_count": 17,
   "metadata": {},
   "outputs": [
    {
     "name": "stdout",
     "output_type": "stream",
     "text": [
      "               prcp\n",
      "station            \n",
      "USC00511918   20.37\n",
      "USC00513117   56.86\n",
      "USC00514830   38.49\n",
      "USC00516128  141.88\n",
      "USC00517948    6.58\n",
      "USC00518838    0.10\n",
      "USC00519281   87.18\n",
      "USC00519397   20.55\n",
      "USC00519523   45.03\n"
     ]
    }
   ],
   "source": [
    "# Calculate the total amount of rainfall per weather station for your trip dates using the previous year's matching dates.\n",
    "# Sort this in descending order by precipitation amount and list the station, name, latitude, longitude, and elevation\n",
    "\n",
    "\n",
    "\n",
    "''''\n",
    "Calculate the rainfall per weather station using the previous year's matching dates.\n",
    " '''\n",
    "\n",
    "engine = create_engine(\"sqlite:///hawaii.sqlite\")\n",
    "session = Session(engine)\n",
    "# reflect an existing database into a new model\n",
    "Base = automap_base()\n",
    "# reflect the tables\n",
    "Base.prepare(engine, reflect=True)\n",
    "\n",
    "# Save reference to the table\n",
    "\n",
    "Measurement = Base.classes.measurement\n",
    "Station = Base.classes.station\n",
    "\n",
    "d7 =  session.query(Measurement.station, Measurement.prcp).\\\n",
    "    filter(Measurement.date > '2014-01-15').filter(Measurement.date < '2015-01-15').\\\n",
    "    order_by(Measurement.station).all()\n",
    "rainData = pd.DataFrame(d7)\n",
    "\n",
    "#print(rainData)\n",
    "\n",
    "stationTotals = rainData.groupby(['station']).sum()\n",
    "print(stationTotals)\n",
    "\n",
    "\n"
   ]
  },
  {
   "cell_type": "code",
   "execution_count": 18,
   "metadata": {},
   "outputs": [
    {
     "data": {
      "text/plain": [
       "[(62.0, 69.15384615384616, 77.0)]"
      ]
     },
     "execution_count": 18,
     "metadata": {},
     "output_type": "execute_result"
    }
   ],
   "source": [
    "# Create a query that will calculate the daily normals \n",
    "# (i.e. the averages for tmin, tmax, and tavg for all historic data matching a specific month and day)\n",
    "\n",
    "def daily_normals(date):\n",
    "    \"\"\"Daily Normals.\n",
    "    \n",
    "    Args:\n",
    "        date (str): A date string in the format '%m-%d'\n",
    "        \n",
    "    Returns:\n",
    "        A list of tuples containing the daily normals, tmin, tavg, and tmax\n",
    "    \n",
    "    \"\"\"\n",
    "    \n",
    "    sel = [func.min(Measurement.tobs), func.avg(Measurement.tobs), func.max(Measurement.tobs)]\n",
    "    return session.query(*sel).filter(func.strftime(\"%m-%d\", Measurement.date) == date).all()\n",
    "    \n",
    "daily_normals(\"01-01\")"
   ]
  },
  {
   "cell_type": "code",
   "execution_count": 19,
   "metadata": {},
   "outputs": [
    {
     "name": "stdout",
     "output_type": "stream",
     "text": [
      "       tmin       tavg  tmax\n",
      "01-10  62.0  69.741379  77.0\n",
      "01-11  57.0  67.310345  78.0\n",
      "01-12  57.0  67.407407  81.0\n",
      "01-13  57.0  67.254545  77.0\n",
      "01-14  58.0  69.526316  77.0\n",
      "01-15  56.0  69.313725  78.0\n"
     ]
    }
   ],
   "source": [
    "# calculate the daily normals for your trip\n",
    "# push each tuple of calculations into a list called `normals`\n",
    "\n",
    "# Set the start and end date of the trip\n",
    "\n",
    "# Use the start and end date to create a range of dates\n",
    "\n",
    "# Stip off the year and save a list of %m-%d strings\n",
    "\n",
    "# Loop through the list of %m-%d strings and calculate the normals for each date\n",
    "\n",
    "\n",
    "tripDates = [(\"01-10\"), (\"01-11\"), (\"01-12\"), (\"01-13\"), (\"01-14\"), (\"01-15\")]\n",
    "\n",
    "tripData = []\n",
    "\n",
    "for i in range(6):\n",
    "    tripData.append(daily_normals(tripDates[i]))\n",
    "tmin = []\n",
    "tmax = []\n",
    "tavg = []\n",
    "for v in tripData:\n",
    "    tmin.append(v[0][0])\n",
    "    tmax.append(v[0][1])\n",
    "    tavg.append(v[0][2])\n",
    "\n",
    "d10 = list(zip(tmin,tmax,tavg))\n",
    "\n",
    "\n",
    "\n",
    "tripdf = pd.DataFrame( data = d10, index = tripDates, columns = [ 'tmin', 'tavg', 'tmax'])\n",
    "print(tripdf)\n",
    "\n",
    "\n",
    "\n",
    "\n"
   ]
  },
  {
   "cell_type": "code",
   "execution_count": null,
   "metadata": {},
   "outputs": [],
   "source": []
  },
  {
   "cell_type": "code",
   "execution_count": 20,
   "metadata": {},
   "outputs": [
    {
     "data": {
      "image/png": "[encoded data removed]",
      "text/plain": [
       "<Figure size 360x576 with 1 Axes>"
      ]
     },
     "metadata": {
      "needs_background": "light"
     },
     "output_type": "display_data"
    }
   ],
   "source": [
    "# Plot the daily normals as an area plot with `stacked=False`\n",
    "\n",
    "tripdf.plot.area( stacked = False, figsize=(5,8), alpha=0.6)\n",
    "plt.title(\"daily normals for trip dates\", fontsize=18)\n",
    "plt.ylabel(\"temps in farenhights\")\n",
    "plt.xlabel(\"date\")\n",
    "plt.grid()\n",
    "plt.show()\n",
    "\n"
   ]
  }
 ],
 "metadata": {
  "kernel_info": {
   "name": "python3"
  },
  "kernelspec": {
   "display_name": "Python 3",
   "language": "python",
   "name": "python3"
  },
  "language_info": {
   "codemirror_mode": {
    "name": "ipython",
    "version": 3
   },
   "file_extension": ".py",
   "mimetype": "text/x-python",
   "name": "python",
   "nbconvert_exporter": "python",
   "pygments_lexer": "ipython3",
   "version": "3.7.4"
  },
  "nteract": {
   "version": "0.12.3"
  },
  "varInspector": {
   "cols": {
    "lenName": 16,
    "lenType": 16,
    "lenVar": 40
   },
   "kernels_config": {
    "python": {
     "delete_cmd_postfix": "",
     "delete_cmd_prefix": "del ",
     "library": "var_list.py",
     "varRefreshCmd": "print(var_dic_list())"
    },
    "r": {
     "delete_cmd_postfix": ") ",
     "delete_cmd_prefix": "rm(",
     "library": "var_list.r",
     "varRefreshCmd": "cat(var_dic_list()) "
    }
   },
   "types_to_exclude": [
    "module",
    "function",
    "builtin_function_or_method",
    "instance",
    "_Feature"
   ],
   "window_display": false
  }
 },
 "nbformat": 4,
 "nbformat_minor": 2
}
